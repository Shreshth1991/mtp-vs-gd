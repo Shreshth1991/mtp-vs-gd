{
 "cells": [
  {
   "cell_type": "code",
   "execution_count": 1,
   "metadata": {},
   "outputs": [
    {
     "name": "stdout",
     "output_type": "stream",
     "text": [
      "Collecting streamlit\n",
      "  Downloading https://files.pythonhosted.org/packages/58/c4/e2e0cda4b9dc06bad17ae71629d5cdf1c35255ac3ec489914582de3fc6ad/streamlit-0.52.2-py2.py3-none-any.whl (6.2MB)\n",
      "Collecting astor\n",
      "  Using cached https://files.pythonhosted.org/packages/c3/88/97eef84f48fa04fbd6750e62dcceafba6c63c81b7ac1420856c8dcc0a3f9/astor-0.8.1-py2.py3-none-any.whl\n",
      "Collecting toml\n",
      "  Downloading https://files.pythonhosted.org/packages/a2/12/ced7105d2de62fa7c8fb5fce92cc4ce66b57c95fb875e9318dba7f8c5db0/toml-0.10.0-py2.py3-none-any.whl\n",
      "Requirement already satisfied: pillow>=6.2.0 in c:\\users\\trung\\appdata\\local\\continuum\\anaconda3\\envs\\fastai\\lib\\site-packages (from streamlit) (6.2.1)\n",
      "Collecting tornado<6.0,>=5.0\n",
      "  Downloading https://files.pythonhosted.org/packages/d7/d5/99aff77c15da335e3dbf30254b304a526494dca8e51b4b47419772e35a4e/tornado-5.1.1-cp37-cp37m-win_amd64.whl (455kB)\n",
      "Collecting blinker\n",
      "  Downloading https://files.pythonhosted.org/packages/1b/51/e2a9f3b757eb802f61dc1f2b09c8c99f6eb01cf06416c0671253536517b6/blinker-1.4.tar.gz (111kB)\n",
      "Collecting altair>=3.2.0\n",
      "  Downloading https://files.pythonhosted.org/packages/67/fe/2584ab143719f073abb4884049a1ef2e5daf277d9c5a3a47df03cd7ad4ab/altair-4.0.0-py2.py3-none-any.whl (709kB)\n",
      "Collecting base58\n",
      "  Downloading https://files.pythonhosted.org/packages/09/b2/21ac9591f055acc145afead895edeb73bbd69d95cf366fc5c2233f2434cb/base58-1.0.3-py3-none-any.whl\n",
      "Collecting click>=7.0\n",
      "  Downloading https://files.pythonhosted.org/packages/fa/37/45185cb5abbc30d7257104c434fe0b07e5a195a6847506c074527aa599ec/Click-7.0-py2.py3-none-any.whl (81kB)\n",
      "Collecting python-dateutil<=2.8.0\n",
      "  Downloading https://files.pythonhosted.org/packages/41/17/c62faccbfbd163c7f57f3844689e3a78bae1f403648a6afb1d0866d87fbb/python_dateutil-2.8.0-py2.py3-none-any.whl (226kB)\n",
      "Collecting boto3\n",
      "  Downloading https://files.pythonhosted.org/packages/f9/01/1c749dc1bca8dda969f5fe0ba16fa6d24c6bd96572d118f790773c54a636/boto3-1.10.45-py2.py3-none-any.whl (128kB)\n",
      "Requirement already satisfied: requests in c:\\users\\trung\\appdata\\local\\continuum\\anaconda3\\envs\\fastai\\lib\\site-packages (from streamlit) (2.22.0)\n",
      "Collecting future\n",
      "  Downloading https://files.pythonhosted.org/packages/45/0b/38b06fd9b92dc2b68d58b75f900e97884c45bedd2ff83203d933cf5851c9/future-0.18.2.tar.gz (829kB)\n",
      "Collecting protobuf>=3.6.0\n",
      "  Downloading https://files.pythonhosted.org/packages/30/c6/286db43e2d0d4b89d328a222365c7a253a99a24067812253f0d4f8eb0f1c/protobuf-3.11.2-cp37-cp37m-win_amd64.whl (1.0MB)\n",
      "Collecting tzlocal\n",
      "  Downloading https://files.pythonhosted.org/packages/ef/99/53bd1ac9349262f59c1c421d8fcc2559ae8a5eeffed9202684756b648d33/tzlocal-2.0.0-py2.py3-none-any.whl\n",
      "Collecting validators\n",
      "  Downloading https://files.pythonhosted.org/packages/72/8a/f99287daae8cfef938e6eec785f6e259bf6bad93269d5398bb546d5b1563/validators-0.14.1.tar.gz\n",
      "Collecting watchdog\n",
      "  Downloading https://files.pythonhosted.org/packages/bb/e3/5a55d48a29300160779f0a0d2776d17c1b762a2039b36de528b093b87d5b/watchdog-0.9.0.tar.gz (85kB)\n",
      "Requirement already satisfied: pandas>=0.21.0 in c:\\users\\trung\\appdata\\local\\continuum\\anaconda3\\envs\\fastai\\lib\\site-packages (from streamlit) (0.25.3)\n",
      "Requirement already satisfied: numpy in c:\\users\\trung\\appdata\\local\\continuum\\anaconda3\\envs\\fastai\\lib\\site-packages (from streamlit) (1.17.4)\n",
      "Collecting enum-compat\n",
      "  Downloading https://files.pythonhosted.org/packages/55/ae/467bc4509246283bb59746e21a1a2f5a8aecbef56b1fa6eaca78cd438c8b/enum_compat-0.0.3-py3-none-any.whl\n",
      "Collecting botocore\n",
      "  Downloading https://files.pythonhosted.org/packages/96/22/9f8201d900956e57a9811e1b1c91c9f76c87487c76f636c2df1ce8379c38/botocore-1.13.45-py2.py3-none-any.whl (5.9MB)\n",
      "Collecting toolz\n",
      "  Downloading https://files.pythonhosted.org/packages/22/8e/037b9ba5c6a5739ef0dcde60578c64d49f45f64c5e5e886531bfbc39157f/toolz-0.10.0.tar.gz (49kB)\n",
      "Requirement already satisfied: jinja2 in c:\\users\\trung\\appdata\\local\\continuum\\anaconda3\\envs\\fastai\\lib\\site-packages (from altair>=3.2.0->streamlit) (2.10.3)\n",
      "Requirement already satisfied: jsonschema in c:\\users\\trung\\appdata\\local\\continuum\\anaconda3\\envs\\fastai\\lib\\site-packages (from altair>=3.2.0->streamlit) (3.2.0)\n",
      "Requirement already satisfied: entrypoints in c:\\users\\trung\\appdata\\local\\continuum\\anaconda3\\envs\\fastai\\lib\\site-packages (from altair>=3.2.0->streamlit) (0.3)\n",
      "Requirement already satisfied: six>=1.5 in c:\\users\\trung\\appdata\\local\\continuum\\anaconda3\\envs\\fastai\\lib\\site-packages (from python-dateutil<=2.8.0->streamlit) (1.13.0)\n",
      "Collecting jmespath<1.0.0,>=0.7.1\n",
      "  Downloading https://files.pythonhosted.org/packages/83/94/7179c3832a6d45b266ddb2aac329e101367fbdb11f425f13771d27f225bb/jmespath-0.9.4-py2.py3-none-any.whl\n",
      "Collecting s3transfer<0.3.0,>=0.2.0\n",
      "  Downloading https://files.pythonhosted.org/packages/16/8a/1fc3dba0c4923c2a76e1ff0d52b305c44606da63f718d14d3231e21c51b0/s3transfer-0.2.1-py2.py3-none-any.whl (70kB)\n",
      "Requirement already satisfied: urllib3!=1.25.0,!=1.25.1,<1.26,>=1.21.1 in c:\\users\\trung\\appdata\\local\\continuum\\anaconda3\\envs\\fastai\\lib\\site-packages (from requests->streamlit) (1.25.7)\n",
      "Requirement already satisfied: idna<2.9,>=2.5 in c:\\users\\trung\\appdata\\local\\continuum\\anaconda3\\envs\\fastai\\lib\\site-packages (from requests->streamlit) (2.8)\n",
      "Requirement already satisfied: chardet<3.1.0,>=3.0.2 in c:\\users\\trung\\appdata\\local\\continuum\\anaconda3\\envs\\fastai\\lib\\site-packages (from requests->streamlit) (3.0.4)\n",
      "Requirement already satisfied: certifi>=2017.4.17 in c:\\users\\trung\\appdata\\local\\continuum\\anaconda3\\envs\\fastai\\lib\\site-packages (from requests->streamlit) (2019.11.28)\n",
      "Requirement already satisfied: setuptools in c:\\users\\trung\\appdata\\local\\continuum\\anaconda3\\envs\\fastai\\lib\\site-packages (from protobuf>=3.6.0->streamlit) (42.0.2.post20191203)\n",
      "Requirement already satisfied: pytz in c:\\users\\trung\\appdata\\local\\continuum\\anaconda3\\envs\\fastai\\lib\\site-packages (from tzlocal->streamlit) (2019.3)\n",
      "Requirement already satisfied: decorator>=3.4.0 in c:\\users\\trung\\appdata\\local\\continuum\\anaconda3\\envs\\fastai\\lib\\site-packages (from validators->streamlit) (4.4.1)\n",
      "Requirement already satisfied: PyYAML>=3.10 in c:\\users\\trung\\appdata\\local\\continuum\\anaconda3\\envs\\fastai\\lib\\site-packages (from watchdog->streamlit) (5.2)\n",
      "Collecting argh>=0.24.1\n",
      "  Downloading https://files.pythonhosted.org/packages/06/1c/e667a7126f0b84aaa1c56844337bf0ac12445d1beb9c8a6199a7314944bf/argh-0.26.2-py2.py3-none-any.whl\n",
      "Collecting pathtools>=0.1.1\n",
      "  Downloading https://files.pythonhosted.org/packages/e7/7f/470d6fcdf23f9f3518f6b0b76be9df16dcc8630ad409947f8be2eb0ed13a/pathtools-0.1.2.tar.gz\n",
      "Collecting docutils<0.16,>=0.10\n",
      "  Downloading https://files.pythonhosted.org/packages/22/cd/a6aa959dca619918ccb55023b4cb151949c64d4d5d55b3f4ffd7eee0c6e8/docutils-0.15.2-py3-none-any.whl (547kB)\n",
      "Requirement already satisfied: MarkupSafe>=0.23 in c:\\users\\trung\\appdata\\local\\continuum\\anaconda3\\envs\\fastai\\lib\\site-packages (from jinja2->altair>=3.2.0->streamlit) (1.1.1)\n",
      "Requirement already satisfied: importlib-metadata; python_version < \"3.8\" in c:\\users\\trung\\appdata\\local\\continuum\\anaconda3\\envs\\fastai\\lib\\site-packages (from jsonschema->altair>=3.2.0->streamlit) (1.3.0)\n",
      "Requirement already satisfied: attrs>=17.4.0 in c:\\users\\trung\\appdata\\local\\continuum\\anaconda3\\envs\\fastai\\lib\\site-packages (from jsonschema->altair>=3.2.0->streamlit) (19.3.0)\n",
      "Requirement already satisfied: pyrsistent>=0.14.0 in c:\\users\\trung\\appdata\\local\\continuum\\anaconda3\\envs\\fastai\\lib\\site-packages (from jsonschema->altair>=3.2.0->streamlit) (0.15.6)\n",
      "Requirement already satisfied: zipp>=0.5 in c:\\users\\trung\\appdata\\local\\continuum\\anaconda3\\envs\\fastai\\lib\\site-packages (from importlib-metadata; python_version < \"3.8\"->jsonschema->altair>=3.2.0->streamlit) (0.6.0)\n",
      "Requirement already satisfied: more-itertools in c:\\users\\trung\\appdata\\local\\continuum\\anaconda3\\envs\\fastai\\lib\\site-packages (from zipp>=0.5->importlib-metadata; python_version < \"3.8\"->jsonschema->altair>=3.2.0->streamlit) (8.0.2)\n",
      "Building wheels for collected packages: blinker, future, validators, watchdog, toolz, pathtools\n",
      "  Building wheel for blinker (setup.py): started\n",
      "  Building wheel for blinker (setup.py): finished with status 'done'\n",
      "  Created wheel for blinker: filename=blinker-1.4-cp37-none-any.whl size=13452 sha256=bd597599fe7f247d57444a68f7bf7314fa822bc876ceddd6f2110c56bccbe2d0\n",
      "  Stored in directory: C:\\Users\\trung\\AppData\\Local\\pip\\Cache\\wheels\\92\\a0\\00\\8690a57883956a301d91cf4ec999cc0b258b01e3f548f86e89\n",
      "  Building wheel for future (setup.py): started\n",
      "  Building wheel for future (setup.py): finished with status 'done'\n",
      "  Created wheel for future: filename=future-0.18.2-cp37-none-any.whl size=491063 sha256=0ac447afc07e0ee53e2d0a895dfa85a4f64d18f7411dae2c928a06912ded863b\n",
      "  Stored in directory: C:\\Users\\trung\\AppData\\Local\\pip\\Cache\\wheels\\8b\\99\\a0\\81daf51dcd359a9377b110a8a886b3895921802d2fc1b2397e\n",
      "  Building wheel for validators (setup.py): started\n",
      "  Building wheel for validators (setup.py): finished with status 'done'\n",
      "  Created wheel for validators: filename=validators-0.14.1-cp37-none-any.whl size=17246 sha256=f606e93d2745e69a515e47f5e43eda8f866b3245098eb892f42db7088614070f\n",
      "  Stored in directory: C:\\Users\\trung\\AppData\\Local\\pip\\Cache\\wheels\\a1\\fb\\78\\272466691f4117974f8d5811e4060fc61e1179a1c00db6f9bb\n",
      "  Building wheel for watchdog (setup.py): started\n",
      "  Building wheel for watchdog (setup.py): finished with status 'done'\n",
      "  Created wheel for watchdog: filename=watchdog-0.9.0-cp37-none-any.whl size=73657 sha256=a50c29368d02b77cdd6384907c6dc8a68d59eaf9cb31f819eba97274327f0ffc\n",
      "  Stored in directory: C:\\Users\\trung\\AppData\\Local\\pip\\Cache\\wheels\\61\\1d\\d0\\04cfe495619be2095eb8d89a31c42adb4e42b76495bc8f784c\n",
      "  Building wheel for toolz (setup.py): started\n",
      "  Building wheel for toolz (setup.py): finished with status 'done'\n",
      "  Created wheel for toolz: filename=toolz-0.10.0-cp37-none-any.whl size=55581 sha256=0a5c4229a9b641a4cd44b9902a662fe84c759c65a46855bd8f0b9fd817c6b232\n",
      "  Stored in directory: C:\\Users\\trung\\AppData\\Local\\pip\\Cache\\wheels\\e1\\8b\\65\\3294e5b727440250bda09e8c0153b7ba19d328f661605cb151\n",
      "  Building wheel for pathtools (setup.py): started\n",
      "  Building wheel for pathtools (setup.py): finished with status 'done'\n",
      "  Created wheel for pathtools: filename=pathtools-0.1.2-cp37-none-any.whl size=8793 sha256=768cab8251a2459a4e0caebb5751f787b5beff38af0cdb44ab69630c779d4f05\n",
      "  Stored in directory: C:\\Users\\trung\\AppData\\Local\\pip\\Cache\\wheels\\0b\\04\\79\\c3b0c3a0266a3cb4376da31e5bfe8bba0c489246968a68e843\n",
      "Successfully built blinker future validators watchdog toolz pathtools\n",
      "Installing collected packages: astor, toml, tornado, blinker, toolz, altair, base58, click, python-dateutil, jmespath, docutils, botocore, s3transfer, boto3, future, protobuf, tzlocal, validators, argh, pathtools, watchdog, enum-compat, streamlit\n",
      "  Found existing installation: tornado 6.0.3\n",
      "    Uninstalling tornado-6.0.3:\n",
      "      Successfully uninstalled tornado-6.0.3\n"
     ]
    },
    {
     "name": "stderr",
     "output_type": "stream",
     "text": [
      "ERROR: Could not install packages due to an EnvironmentError: [WinError 5] Access is denied: 'c:\\\\users\\\\trung\\\\appdata\\\\local\\\\continuum\\\\anaconda3\\\\envs\\\\fastai\\\\lib\\\\site-packages\\\\~ornado\\\\speedups.cp37-win_amd64.pyd'\n",
      "Consider using the `--user` option or check the permissions.\n",
      "\n"
     ]
    }
   ],
   "source": [
    "! pip install streamlit"
   ]
  },
  {
   "cell_type": "code",
   "execution_count": null,
   "metadata": {},
   "outputs": [],
   "source": [
    "!streamlit hello"
   ]
  },
  {
   "cell_type": "code",
   "execution_count": null,
   "metadata": {},
   "outputs": [],
   "source": []
  }
 ],
 "metadata": {
  "kernelspec": {
   "display_name": "Python 3",
   "language": "python",
   "name": "python3"
  },
  "language_info": {
   "codemirror_mode": {
    "name": "ipython",
    "version": 3
   },
   "file_extension": ".py",
   "mimetype": "text/x-python",
   "name": "python",
   "nbconvert_exporter": "python",
   "pygments_lexer": "ipython3",
   "version": "3.7.5"
  }
 },
 "nbformat": 4,
 "nbformat_minor": 2
}
